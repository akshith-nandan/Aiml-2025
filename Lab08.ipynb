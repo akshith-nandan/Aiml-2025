{
  "nbformat": 4,
  "nbformat_minor": 0,
  "metadata": {
    "colab": {
      "provenance": [],
      "authorship_tag": "ABX9TyNoQQnXg0O5mWSovd2s5Npl",
      "include_colab_link": true
    },
    "kernelspec": {
      "name": "python3",
      "display_name": "Python 3"
    },
    "language_info": {
      "name": "python"
    }
  },
  "cells": [
    {
      "cell_type": "markdown",
      "metadata": {
        "id": "view-in-github",
        "colab_type": "text"
      },
      "source": [
        "<a href=\"https://colab.research.google.com/github/akshith-nandan/Aiml-2025/blob/main/Lab08.ipynb\" target=\"_parent\"><img src=\"https://colab.research.google.com/assets/colab-badge.svg\" alt=\"Open In Colab\"/></a>"
      ]
    },
    {
      "cell_type": "code",
      "execution_count": null,
      "metadata": {
        "id": "tY1bjI5KhTnz"
      },
      "outputs": [],
      "source": [
        "import numpy as np\n",
        "import pandas as pd\n",
        "import seaborn as sns\n",
        "import sklearn\n",
        "from sklearn.datasets import fetch_openml\n",
        "import matplotlib.pyplot as plt\n",
        "%matplotlib inline"
      ]
    },
    {
      "cell_type": "code",
      "source": [
        "fetch_openml(data_id= 10)"
      ],
      "metadata": {
        "colab": {
          "base_uri": "https://localhost:8080/"
        },
        "id": "LBpPnkxukKcu",
        "outputId": "af4cda32-9eae-4037-ffe4-14a7c6c8e42f"
      },
      "execution_count": null,
      "outputs": [
        {
          "output_type": "execute_result",
          "data": {
            "text/plain": [
              "{'data':     lymphatics block_of_affere bl_of_lymph_c bl_of_lymph_s by_pass  \\\n",
              " 0       arched             yes            no            no      no   \n",
              " 1    displaced             yes            no            no     yes   \n",
              " 2     deformed              no            no            no     yes   \n",
              " 3       arched              no            no            no      no   \n",
              " 4       arched              no            no            no      no   \n",
              " ..         ...             ...           ...           ...     ...   \n",
              " 143  displaced              no            no            no      no   \n",
              " 144   deformed              no            no            no      no   \n",
              " 145   deformed             yes            no            no     yes   \n",
              " 146   deformed             yes            no            no      no   \n",
              " 147     arched              no            no            no      no   \n",
              " \n",
              "     extravasates regeneration_of early_uptake_in  lym_nodes_dimin  \\\n",
              " 0             no              no             yes                1   \n",
              " 1            yes              no             yes                1   \n",
              " 2            yes             yes              no                3   \n",
              " 3            yes              no             yes                1   \n",
              " 4             no              no              no                1   \n",
              " ..           ...             ...             ...              ...   \n",
              " 143           no              no             yes                1   \n",
              " 144          yes              no             yes                1   \n",
              " 145          yes              no             yes                1   \n",
              " 146           no              no             yes                1   \n",
              " 147           no              no              no                1   \n",
              " \n",
              "      lym_nodes_enlar changes_in_lym defect_in_node changes_in_node  \\\n",
              " 0                  4          round    lac_central         lacunar   \n",
              " 1                  3          round    lac_central         lacunar   \n",
              " 2                  1           bean        lacunar              no   \n",
              " 3                  2           oval     lac_margin      lac_margin   \n",
              " 4                  2          round     lac_margin      lac_margin   \n",
              " ..               ...            ...            ...             ...   \n",
              " 143                3          round        lacunar         lacunar   \n",
              " 144                4          round    lac_central         lacunar   \n",
              " 145                2           oval    lac_central      lac_margin   \n",
              " 146                3           oval        lacunar     lac_central   \n",
              " 147                1           oval    lac_central      lac_margin   \n",
              " \n",
              "     changes_in_stru special_forms dislocation_of exclusion_of_no  \\\n",
              " 0          stripped      vesicles            yes             yes   \n",
              " 1           diluted      vesicles            yes             yes   \n",
              " 2           diluted      vesicles             no              no   \n",
              " 3         drop_like      vesicles             no             yes   \n",
              " 4             faint      vesicles             no              no   \n",
              " ..              ...           ...            ...             ...   \n",
              " 143          coarse      chalices            yes             yes   \n",
              " 144          coarse      vesicles            yes             yes   \n",
              " 145         diluted      chalices            yes             yes   \n",
              " 146           faint      vesicles            yes             yes   \n",
              " 147           faint      chalices            yes             yes   \n",
              " \n",
              "      no_of_nodes_in  \n",
              " 0                 5  \n",
              " 1                 3  \n",
              " 2                 7  \n",
              " 3                 1  \n",
              " 4                 1  \n",
              " ..              ...  \n",
              " 143               2  \n",
              " 144               6  \n",
              " 145               4  \n",
              " 146               3  \n",
              " 147               2  \n",
              " \n",
              " [148 rows x 18 columns],\n",
              " 'target': 0      malign_lymph\n",
              " 1      malign_lymph\n",
              " 2          fibrosis\n",
              " 3      malign_lymph\n",
              " 4        metastases\n",
              "            ...     \n",
              " 143      metastases\n",
              " 144    malign_lymph\n",
              " 145    malign_lymph\n",
              " 146    malign_lymph\n",
              " 147      metastases\n",
              " Name: class, Length: 148, dtype: category\n",
              " Categories (4, object): ['fibrosis', 'malign_lymph', 'metastases', 'normal'],\n",
              " 'frame':     lymphatics block_of_affere bl_of_lymph_c bl_of_lymph_s by_pass  \\\n",
              " 0       arched             yes            no            no      no   \n",
              " 1    displaced             yes            no            no     yes   \n",
              " 2     deformed              no            no            no     yes   \n",
              " 3       arched              no            no            no      no   \n",
              " 4       arched              no            no            no      no   \n",
              " ..         ...             ...           ...           ...     ...   \n",
              " 143  displaced              no            no            no      no   \n",
              " 144   deformed              no            no            no      no   \n",
              " 145   deformed             yes            no            no     yes   \n",
              " 146   deformed             yes            no            no      no   \n",
              " 147     arched              no            no            no      no   \n",
              " \n",
              "     extravasates regeneration_of early_uptake_in  lym_nodes_dimin  \\\n",
              " 0             no              no             yes                1   \n",
              " 1            yes              no             yes                1   \n",
              " 2            yes             yes              no                3   \n",
              " 3            yes              no             yes                1   \n",
              " 4             no              no              no                1   \n",
              " ..           ...             ...             ...              ...   \n",
              " 143           no              no             yes                1   \n",
              " 144          yes              no             yes                1   \n",
              " 145          yes              no             yes                1   \n",
              " 146           no              no             yes                1   \n",
              " 147           no              no              no                1   \n",
              " \n",
              "      lym_nodes_enlar changes_in_lym defect_in_node changes_in_node  \\\n",
              " 0                  4          round    lac_central         lacunar   \n",
              " 1                  3          round    lac_central         lacunar   \n",
              " 2                  1           bean        lacunar              no   \n",
              " 3                  2           oval     lac_margin      lac_margin   \n",
              " 4                  2          round     lac_margin      lac_margin   \n",
              " ..               ...            ...            ...             ...   \n",
              " 143                3          round        lacunar         lacunar   \n",
              " 144                4          round    lac_central         lacunar   \n",
              " 145                2           oval    lac_central      lac_margin   \n",
              " 146                3           oval        lacunar     lac_central   \n",
              " 147                1           oval    lac_central      lac_margin   \n",
              " \n",
              "     changes_in_stru special_forms dislocation_of exclusion_of_no  \\\n",
              " 0          stripped      vesicles            yes             yes   \n",
              " 1           diluted      vesicles            yes             yes   \n",
              " 2           diluted      vesicles             no              no   \n",
              " 3         drop_like      vesicles             no             yes   \n",
              " 4             faint      vesicles             no              no   \n",
              " ..              ...           ...            ...             ...   \n",
              " 143          coarse      chalices            yes             yes   \n",
              " 144          coarse      vesicles            yes             yes   \n",
              " 145         diluted      chalices            yes             yes   \n",
              " 146           faint      vesicles            yes             yes   \n",
              " 147           faint      chalices            yes             yes   \n",
              " \n",
              "      no_of_nodes_in         class  \n",
              " 0                 5  malign_lymph  \n",
              " 1                 3  malign_lymph  \n",
              " 2                 7      fibrosis  \n",
              " 3                 1  malign_lymph  \n",
              " 4                 1    metastases  \n",
              " ..              ...           ...  \n",
              " 143               2    metastases  \n",
              " 144               6  malign_lymph  \n",
              " 145               4  malign_lymph  \n",
              " 146               3  malign_lymph  \n",
              " 147               2    metastases  \n",
              " \n",
              " [148 rows x 19 columns],\n",
              " 'categories': None,\n",
              " 'feature_names': ['lymphatics',\n",
              "  'block_of_affere',\n",
              "  'bl_of_lymph_c',\n",
              "  'bl_of_lymph_s',\n",
              "  'by_pass',\n",
              "  'extravasates',\n",
              "  'regeneration_of',\n",
              "  'early_uptake_in',\n",
              "  'lym_nodes_dimin',\n",
              "  'lym_nodes_enlar',\n",
              "  'changes_in_lym',\n",
              "  'defect_in_node',\n",
              "  'changes_in_node',\n",
              "  'changes_in_stru',\n",
              "  'special_forms',\n",
              "  'dislocation_of',\n",
              "  'exclusion_of_no',\n",
              "  'no_of_nodes_in'],\n",
              " 'target_names': ['class'],\n",
              " 'DESCR': \"**Author**:   \\n**Source**: Unknown -   \\n**Please cite**:   \\n\\nCitation Request:\\n    This lymphography domain was obtained from the University Medical Centre,\\n    Institute of Oncology, Ljubljana, Yugoslavia.  Thanks go to M. Zwitter and \\n    M. Soklic for providing the data.  Please include this citation if you plan\\n    to use this database.\\n \\n 1. Title: Lymphography Domain\\n \\n 2. Sources: \\n     (a) See Above.\\n     (b) Donors: Igor Kononenko, \\n                 University E.Kardelj\\n                 Faculty for electrical engineering\\n                 Trzaska 25\\n                 61000 Ljubljana (tel.: (38)(+61) 265-161\\n \\n                 Bojan Cestnik\\n                 Jozef Stefan Institute\\n                 Jamova 39\\n                 61000 Ljubljana\\n                 Yugoslavia (tel.: (38)(+61) 214-399 ext.287) \\n    (c) Date: November 1988\\n \\n 3. Past Usage: (sveral)\\n     1. Cestnik,G., Konenenko,I, & Bratko,I. (1987). Assistant-86: A\\n        Knowledge-Elicitation Tool for Sophisticated Users.  In I.Bratko\\n        & N.Lavrac (Eds.) Progress in Machine Learning, 31-45, Sigma Press.\\n        -- Assistant-86: 76% accuracy\\n     2. Clark,P. & Niblett,T. (1987). Induction in Noisy Domains.  In\\n        I.Bratko & N.Lavrac (Eds.) Progress in Machine Learning, 11-30,\\n        Sigma Press.\\n        -- Simple Bayes: 83% accuracy\\n        -- CN2 (99% threshold): 82%\\n     3. Michalski,R., Mozetic,I. Hong,J., & Lavrac,N. (1986).  The Multi-Purpose\\n        Incremental Learning System AQ15 and its Testing Applications to Three\\n        Medical Domains.  In Proceedings of the Fifth National Conference on\\n        Artificial Intelligence, 1041-1045. Philadelphia, PA: Morgan Kaufmann.\\n        -- Experts: 85% accuracy (estimate)\\n        -- AQ15: 80-82%\\n \\n 4. Relevant Information:\\n      This is one of three domains provided by the Oncology Institute\\n      that has repeatedly appeared in the machine learning literature.\\n      (See also breast-cancer and primary-tumor.)\\n \\n 5. Number of Instances: 148\\n \\n 6. Number of Attributes: 19 including the class attribute\\n \\n 7. Attribute information:\\n     --- NOTE: All attribute values in the database have been entered as\\n               numeric values corresponding to their index in the list\\n               of attribute values for that attribute domain as given below.\\n     1. class: normal find, metastases, malign lymph, fibrosis\\n     2. lymphatics: normal, arched, deformed, displaced\\n     3. block of affere: no, yes\\n     4. bl. of lymph. c: no, yes\\n     5. bl. of lymph. s: no, yes\\n     6. by pass: no, yes\\n     7. extravasates: no, yes\\n     8. regeneration of: no, yes\\n     9. early uptake in: no, yes\\n    10. lym.nodes dimin: 0-3\\n    11. lym.nodes enlar: 1-4\\n    12. changes in lym.: bean, oval, round\\n    13. defect in node: no, lacunar, lac. marginal, lac. central\\n    14. changes in node: no, lacunar, lac. margin, lac. central\\n    15. changes in stru: no, grainy, drop-like, coarse, diluted, reticular, \\n                         stripped, faint, \\n    16. special forms: no, chalices, vesicles\\n    17. dislocation of: no, yes\\n    18. exclusion of no: no, yes\\n    19. no. of nodes in: 0-9, 10-19, 20-29, 30-39, 40-49, 50-59, 60-69, >=70\\n \\n 8. Missing Attribute Values: None\\n \\n 9. Class Distribution: \\n     Class:        Number of Instances:\\n     normal find:  2\\n     metastases:   81\\n     malign lymph: 61\\n     fibrosis:     4\\n \\n \\n\\n\\n\\n\\n Relabeled values in attribute 'lymphatics'\\n    From: '1'                     To: normal              \\n    From: '2'                     To: arched              \\n    From: '3'                     To: deformed            \\n    From: '4'                     To: displaced           \\n\\n\\n Relabeled values in attribute 'block_of_affere'\\n    From: '1'                     To: no                  \\n    From: '2'                     To: yes                 \\n\\n\\n Relabeled values in attribute 'bl_of_lymph_c'\\n    From: '1'                     To: no                  \\n    From: '2'                     To: yes                 \\n\\n\\n Relabeled values in attribute 'bl_of_lymph_s'\\n    From: '1'                     To: no                  \\n    From: '2'                     To: yes                 \\n\\n\\n Relabeled values in attribute 'by_pass'\\n    From: '1'                     To: no                  \\n    From: '2'                     To: yes                 \\n\\n\\n Relabeled values in attribute 'extravasates'\\n    From: '1'                     To: no                  \\n    From: '2'                     To: yes                 \\n\\n\\n Relabeled values in attribute 'regeneration_of'\\n    From: '1'                     To: no                  \\n    From: '2'                     To: yes                 \\n\\n\\n Relabeled values in attribute 'early_uptake_in'\\n    From: '1'                     To: no                  \\n    From: '2'                     To: yes                 \\n\\n\\n Relabeled values in attribute 'changes_in_lym'\\n    From: '1'                     To: bean                \\n    From: '2'                     To: oval                \\n    From: '3'                     To: round               \\n\\n\\n Relabeled values in attribute 'defect_in_node'\\n    From: '1'                     To: no                  \\n    From: '2'                     To: lacunar             \\n    From: '3'                     To: lac_margin          \\n    From: '4'                     To: lac_central         \\n\\n\\n Relabeled values in attribute 'changes_in_node'\\n    From: '1'                     To: no                  \\n    From: '2'                     To: lacunar             \\n    From: '3'                     To: lac_margin          \\n    From: '4'                     To: lac_central         \\n\\n\\n Relabeled values in attribute 'changes_in_stru'\\n    From: '1'                     To: no                  \\n    From: '2'                     To: grainy              \\n    From: '3'                     To: drop_like           \\n    From: '4'                     To: coarse              \\n    From: '5'                     To: diluted             \\n    From: '6'                     To: reticular           \\n    From: '7'                     To: stripped            \\n    From: '8'                     To: faint               \\n\\n\\n Relabeled values in attribute 'special_forms'\\n    From: '1'                     To: no                  \\n    From: '2'                     To: chalices            \\n    From: '3'                     To: vesicles            \\n\\n\\n Relabeled values in attribute 'dislocation_of'\\n    From: '1'                     To: no                  \\n    From: '2'                     To: yes                 \\n\\n\\n Relabeled values in attribute 'exclusion_of_no'\\n    From: '1'                     To: no                  \\n    From: '2'                     To: yes                 \\n\\n\\n Relabeled values in attribute 'class'\\n    From: '1'                     To: normal              \\n    From: '2'                     To: metastases          \\n    From: '3'                     To: malign_lymph        \\n    From: '4'                     To: fibrosis\\n\\nDownloaded from openml.org.\",\n",
              " 'details': {'id': '10',\n",
              "  'name': 'lymph',\n",
              "  'version': '1',\n",
              "  'description_version': '1',\n",
              "  'format': 'ARFF',\n",
              "  'creator': 'Institute of Oncology Ljubljana',\n",
              "  'contributor': ['Igor Kononenko', 'Bojan Cestnik'],\n",
              "  'collection_date': '1988-11-01',\n",
              "  'upload_date': '2014-04-06T23:19:52',\n",
              "  'language': 'English',\n",
              "  'licence': 'Public',\n",
              "  'url': 'https://api.openml.org/data/v1/download/10/lymph.arff',\n",
              "  'parquet_url': 'https://openml1.win.tue.nl/datasets/0000/0010/dataset_10.pq',\n",
              "  'file_id': '10',\n",
              "  'default_target_attribute': 'class',\n",
              "  'version_label': '1',\n",
              "  'citation': 'Institute of Oncology Ljubljana',\n",
              "  'tag': ['Machine Learning',\n",
              "   'Medicine',\n",
              "   'study_1',\n",
              "   'study_41',\n",
              "   'study_7',\n",
              "   'study_88',\n",
              "   'uci'],\n",
              "  'visibility': 'public',\n",
              "  'original_data_url': 'https://archive.ics.uci.edu/ml/datasets/Lymphography',\n",
              "  'paper_url': 'https://www.researchgate.net/profile/Bojan-Cestnik/publication/221112466_ASSISTANT_86_A_Knowledge-Elicitation_Tool_for_Sophisticated_Users/links/5f805cef92851c14bcb940ff/ASSISTANT-86-A-Knowledge-Elicitation-Tool-for-Sophisticated-Users.pdf',\n",
              "  'minio_url': 'https://openml1.win.tue.nl/datasets/0000/0010/dataset_10.pq',\n",
              "  'status': 'active',\n",
              "  'processing_date': '2020-11-20 19:32:23',\n",
              "  'md5_checksum': 'f91f03d0535d532c8795787a51005caf'},\n",
              " 'url': 'https://www.openml.org/d/10'}"
            ]
          },
          "metadata": {},
          "execution_count": 7
        }
      ]
    },
    {
      "cell_type": "code",
      "source": [
        "fetch_openml(name='car')"
      ],
      "metadata": {
        "id": "cYCIzOj7gD9u"
      },
      "execution_count": null,
      "outputs": []
    },
    {
      "cell_type": "code",
      "source": [
        "from sklearn.datasets import fetch_openml\n",
        "\n",
        "car_data  = fetch_openml(name = \"car\",version = 2,parser = 'auto')"
      ],
      "metadata": {
        "id": "xgymQKb4h4NG"
      },
      "execution_count": null,
      "outputs": []
    },
    {
      "cell_type": "code",
      "source": [
        "type(car_data)"
      ],
      "metadata": {
        "colab": {
          "base_uri": "https://localhost:8080/",
          "height": 186
        },
        "id": "-0fewCoVi6cK",
        "outputId": "19b888d5-fad7-41a4-be49-faaf71edf508"
      },
      "execution_count": null,
      "outputs": [
        {
          "output_type": "execute_result",
          "data": {
            "text/plain": [
              "sklearn.utils._bunch.Bunch"
            ],
            "text/html": [
              "<div style=\"max-width:800px; border: 1px solid var(--colab-border-color);\"><style>\n",
              "      pre.function-repr-contents {\n",
              "        overflow-x: auto;\n",
              "        padding: 8px 12px;\n",
              "        max-height: 500px;\n",
              "      }\n",
              "\n",
              "      pre.function-repr-contents.function-repr-contents-collapsed {\n",
              "        cursor: pointer;\n",
              "        max-height: 100px;\n",
              "      }\n",
              "    </style>\n",
              "    <pre style=\"white-space: initial; background:\n",
              "         var(--colab-secondary-surface-color); padding: 8px 12px;\n",
              "         border-bottom: 1px solid var(--colab-border-color);\"><b>sklearn.utils._bunch.Bunch</b><br/>def __init__(**kwargs)</pre><pre class=\"function-repr-contents function-repr-contents-collapsed\" style=\"\"><a class=\"filepath\" style=\"display:none\" href=\"#\">/usr/local/lib/python3.10/dist-packages/sklearn/utils/_bunch.py</a>Container object exposing keys as attributes.\n",
              "\n",
              "Bunch objects are sometimes used as an output for functions and methods.\n",
              "They extend dictionaries by enabling values to be accessed by key,\n",
              "`bunch[&quot;value_key&quot;]`, or by an attribute, `bunch.value_key`.\n",
              "\n",
              "Examples\n",
              "--------\n",
              "&gt;&gt;&gt; from sklearn.utils import Bunch\n",
              "&gt;&gt;&gt; b = Bunch(a=1, b=2)\n",
              "&gt;&gt;&gt; b[&#x27;b&#x27;]\n",
              "2\n",
              "&gt;&gt;&gt; b.b\n",
              "2\n",
              "&gt;&gt;&gt; b.a = 3\n",
              "&gt;&gt;&gt; b[&#x27;a&#x27;]\n",
              "3\n",
              "&gt;&gt;&gt; b.c = 6\n",
              "&gt;&gt;&gt; b[&#x27;c&#x27;]\n",
              "6</pre>\n",
              "      <script>\n",
              "      if (google.colab.kernel.accessAllowed && google.colab.files && google.colab.files.view) {\n",
              "        for (const element of document.querySelectorAll('.filepath')) {\n",
              "          element.style.display = 'block'\n",
              "          element.onclick = (event) => {\n",
              "            event.preventDefault();\n",
              "            event.stopPropagation();\n",
              "            google.colab.files.view(element.textContent, 4);\n",
              "          };\n",
              "        }\n",
              "      }\n",
              "      for (const element of document.querySelectorAll('.function-repr-contents')) {\n",
              "        element.onclick = (event) => {\n",
              "          event.preventDefault();\n",
              "          event.stopPropagation();\n",
              "          element.classList.toggle('function-repr-contents-collapsed');\n",
              "        };\n",
              "      }\n",
              "      </script>\n",
              "      </div>"
            ]
          },
          "metadata": {},
          "execution_count": 11
        }
      ]
    },
    {
      "cell_type": "code",
      "source": [
        "car_data.details"
      ],
      "metadata": {
        "id": "wm1ESuI8gj2L"
      },
      "execution_count": null,
      "outputs": []
    },
    {
      "cell_type": "code",
      "source": [
        "car_data.keys()"
      ],
      "metadata": {
        "id": "WEowAk9Qgm93"
      },
      "execution_count": null,
      "outputs": []
    },
    {
      "cell_type": "code",
      "source": [
        "car_data.details['version']"
      ],
      "metadata": {
        "id": "eTIuBMx4gnJm"
      },
      "execution_count": null,
      "outputs": []
    },
    {
      "cell_type": "code",
      "source": [
        "car_data.feature_names,car_data.target,car_data.categories"
      ],
      "metadata": {
        "id": "S0OcOBP6gqiz"
      },
      "execution_count": null,
      "outputs": []
    },
    {
      "cell_type": "code",
      "source": [
        "car_data.target.value_counts()"
      ],
      "metadata": {
        "id": "sZ8LxjnbgrE1"
      },
      "execution_count": null,
      "outputs": []
    },
    {
      "cell_type": "code",
      "source": [
        "car_data=car_data.frame\n",
        "car_data.head()"
      ],
      "metadata": {
        "id": "ySY98ritgzHs"
      },
      "execution_count": null,
      "outputs": []
    },
    {
      "cell_type": "code",
      "source": [
        "car_data=car_data.frame\n",
        "car_data.head"
      ],
      "metadata": {
        "id": "SxRa8oUMgzSs"
      },
      "execution_count": null,
      "outputs": []
    },
    {
      "cell_type": "code",
      "source": [
        "sns.countplot(x=car_data.binaryClass,hue='persons',data=car_data,palette='rainbow')"
      ],
      "metadata": {
        "id": "FSaWqFWvg73H"
      },
      "execution_count": null,
      "outputs": []
    },
    {
      "cell_type": "code",
      "source": [
        "sns.countplot(x=car_data.binaryClass,hue='doors',data=car_data,palette='rainbow')"
      ],
      "metadata": {
        "id": "qCR8QcXcg_Q2"
      },
      "execution_count": null,
      "outputs": []
    },
    {
      "cell_type": "code",
      "source": [
        "from sklearn.model_selection import train_test_split\n",
        "train_data,test_data=train_test_split(car_data,test_size=0.2,random_state=20)\n",
        "print(\"Training data is: {}\\n testing data is: {}\".format(len(train_data),len(test_data)))"
      ],
      "metadata": {
        "id": "TvmBEkGqlNE8"
      },
      "execution_count": null,
      "outputs": []
    },
    {
      "cell_type": "code",
      "source": [
        "from sklearn.preprocessing import LabelEncoder\n",
        "label_enc=LabelEncoder()\n",
        "car_labels_prepared=label_enc.fit_transform(car_lables)"
      ],
      "metadata": {
        "id": "3d7DUEtTlN_t"
      },
      "execution_count": null,
      "outputs": []
    },
    {
      "cell_type": "code",
      "source": [
        "car_train_prepared.shape,car_labels_prepared.shape"
      ],
      "metadata": {
        "colab": {
          "base_uri": "https://localhost:8080/",
          "height": 158
        },
        "id": "fFMW5PNHlMUj",
        "outputId": "831e6a74-9368-4284-bf7c-9027f708a59e"
      },
      "execution_count": null,
      "outputs": [
        {
          "output_type": "error",
          "ename": "AttributeError",
          "evalue": "module 'sklearn' has no attribute 'units'",
          "traceback": [
            "\u001b[0;31m---------------------------------------------------------------------------\u001b[0m",
            "\u001b[0;31mAttributeError\u001b[0m                            Traceback (most recent call last)",
            "\u001b[0;32m<ipython-input-16-da13c940b74e>\u001b[0m in \u001b[0;36m<cell line: 1>\u001b[0;34m()\u001b[0m\n\u001b[0;32m----> 1\u001b[0;31m \u001b[0msklearn\u001b[0m\u001b[0;34m.\u001b[0m\u001b[0munits\u001b[0m\u001b[0;34m.\u001b[0m\u001b[0m_bunch\u001b[0m\u001b[0;34m.\u001b[0m\u001b[0m_bunch\u001b[0m\u001b[0;34m\u001b[0m\u001b[0;34m\u001b[0m\u001b[0m\n\u001b[0m\u001b[1;32m      2\u001b[0m \u001b[0mdef__init__\u001b[0m\u001b[0;34m(\u001b[0m\u001b[0;34m**\u001b[0m\u001b[0mkwargs\u001b[0m\u001b[0;34m)\u001b[0m\u001b[0;34m\u001b[0m\u001b[0;34m\u001b[0m\u001b[0m\n",
            "\u001b[0;31mAttributeError\u001b[0m: module 'sklearn' has no attribute 'units'"
          ]
        }
      ]
    },
    {
      "cell_type": "code",
      "source": [
        "from sklearn.tree import DecisionTreeClassifier\n",
        "tree_clf=DecisionTreeClassifier()\n",
        "tree_clf.fit(car_train_prepared,car_labels_prepared)"
      ],
      "metadata": {
        "colab": {
          "base_uri": "https://localhost:8080/"
        },
        "id": "Kw8HUjAjk3ne",
        "outputId": "7f1d6d1f-770d-4644-8f37-c5a82d23475e"
      },
      "execution_count": null,
      "outputs": [
        {
          "output_type": "execute_result",
          "data": {
            "text/plain": [
              "(['buying', 'maint', 'doors', 'persons', 'lug_boot', 'safety'],\n",
              " binaryClass\n",
              " P    1210\n",
              " N     518\n",
              " Name: count, dtype: int64)"
            ]
          },
          "metadata": {},
          "execution_count": 15
        }
      ]
    },
    {
      "cell_type": "code",
      "source": [
        "from sklearn.tree import export_text\n",
        "text_representation=export_text(tree_clf,feature_names=list(car_train.columns))\n",
        "print(text_representation)\n",
        "text_representation.plot_tree(car_train,car_labels)"
      ],
      "metadata": {
        "id": "a_5XEP5Klgom"
      },
      "execution_count": null,
      "outputs": []
    },
    {
      "cell_type": "code",
      "source": [
        "from sklearn.metrics import accuracy_score,classification_report,confusion_matrix\n",
        "preds=tree_clf.predict(car_train_prepared)\n",
        "print(f\"Accuracy:{accuracy_score(car_labels_prepared,preds)}\")\n",
        "print(f\"ClassReport:{classification_report(car_labels_prepared,preds)}\")\n",
        "print(f\"Confusuion Matrix:{confusion_matrix(car_labels_prepared,preds)}\")"
      ],
      "metadata": {
        "colab": {
          "base_uri": "https://localhost:8080/"
        },
        "id": "n5z-hEDtkwwD",
        "outputId": "515b9172-e94e-4e79-9ca5-a49c01a4a0c9"
      },
      "execution_count": null,
      "outputs": [
        {
          "output_type": "execute_result",
          "data": {
            "text/plain": [
              "dict_keys(['data', 'target', 'frame', 'categories', 'feature_names', 'target_names', 'DESCR', 'details', 'url'])"
            ]
          },
          "metadata": {},
          "execution_count": 12
        }
      ]
    },
    {
      "cell_type": "code",
      "source": [
        "from sklearn.metrics import classification_report"
      ],
      "metadata": {
        "id": "D7OEZPxWhpib"
      },
      "execution_count": null,
      "outputs": []
    }
  ]
}