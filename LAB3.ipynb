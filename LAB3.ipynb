{
  "nbformat": 4,
  "nbformat_minor": 0,
  "metadata": {
    "colab": {
      "provenance": [],
      "authorship_tag": "ABX9TyNiI8kujml8eNZ0pE+uQ5Ql",
      "include_colab_link": true
    },
    "kernelspec": {
      "name": "python3",
      "display_name": "Python 3"
    },
    "language_info": {
      "name": "python"
    }
  },
  "cells": [
    {
      "cell_type": "markdown",
      "metadata": {
        "id": "view-in-github",
        "colab_type": "text"
      },
      "source": [
        "<a href=\"https://colab.research.google.com/github/akshith-nandan/Aiml-2025/blob/main/LAB3.ipynb\" target=\"_parent\"><img src=\"https://colab.research.google.com/assets/colab-badge.svg\" alt=\"Open In Colab\"/></a>"
      ]
    },
    {
      "cell_type": "code",
      "execution_count": 1,
      "metadata": {
        "id": "_bt7o0_jRsEl"
      },
      "outputs": [],
      "source": [
        "from collections import namedtuple,Counter,defaultdict\n",
        "import random\n",
        "import math\n",
        "import functools\n",
        "cache=functools.lru_cache(10**6)"
      ]
    },
    {
      "cell_type": "code",
      "source": [
        "class Game:\n",
        "  def actions(self,state):\n",
        "    ##Return a collection of the allowable moves from this state\n",
        "    raise NotImplementedError\n",
        "  def result(self,state,move):\n",
        "    ##Return the state that results from making a move from a state\n",
        "    raise NotImplementedError\n",
        "  def is_terminal(self,state):\n",
        "    ##Return True if this is a final state for the game\n",
        "    return not self.actions(state)\n",
        "  def utility(self,state,player):\n",
        "    ##Return the value of this final state to player\n",
        "    raise NotImplementedError"
      ],
      "metadata": {
        "id": "6q9jv6t-Sjjx"
      },
      "execution_count": 4,
      "outputs": []
    },
    {
      "cell_type": "code",
      "source": [
        "def play_game(game, strategies: dict, verbose=False):\n",
        "  ##Play a turn−taking game. \"strategies\" is a {player name: function} dict,where function(state, game) is used to get the player's move.\n",
        "   state = game.initial\n",
        "   while not game.is_terminal(state):\n",
        "    player = state.to_move\n",
        "    move = strategies[player](game, state)\n",
        "    state = game.result(state, move)\n",
        "    if verbose:\n",
        "      print( 'Player' , player,'move:' , move)\n",
        "      print(state)\n",
        "   return state"
      ],
      "metadata": {
        "id": "DQmD4bbwS0Yd"
      },
      "execution_count": 3,
      "outputs": []
    },
    {
      "cell_type": "code",
      "source": [
        "def minimax_search(game, state):\n",
        "  ##Search game tree to determine best move;\n",
        " ##return (value, move) pair.\n",
        "  player = state.to_move\n",
        "  def max_value(state):\n",
        "    if game.is_terminal(state):\n",
        "      return game.utility(state, player), None\n",
        "    v, move =-infinity, None\n",
        "    for a in game.actions(state):\n",
        "      v2,_= min_value(game.result(state, a))\n",
        "      if v2 > v:\n",
        "        v, move = v2, a\n",
        "    return v, move\n",
        "  def min_value(state):\n",
        "    if game.is_terminal(state):\n",
        "      return game.utility(state,player),None\n",
        "    v,move=+infinity,None\n",
        "    for a in game.actions(state):\n",
        "       v2,_= max_value(game.result(state, a))\n",
        "       if  v2 < v:\n",
        "        v, move = v2, a\n",
        "    return v,move\n",
        "  return max_value(state)\n",
        "infinity = math.inf"
      ],
      "metadata": {
        "id": "vopz52atS8iG"
      },
      "execution_count": 5,
      "outputs": []
    },
    {
      "cell_type": "code",
      "source": [
        "def alphabeta_search(game, state):\n",
        "  ##Search game to determine best action; use alpha−beta pruning.\n",
        " ##Search all the way to the leaves.\n",
        "  player = state.to_move\n",
        "  def max_value(state, alpha, beta):\n",
        "    if game.is_terminal(state):\n",
        "      return game.utility(state, player), None\n",
        "    v, move = -infinity, None\n",
        "    for a in game.actions(state):\n",
        "      v2,_= min_value(game.result(state, a), alpha, beta)\n",
        "      if v2 > v:\n",
        "        v, move = v2, a\n",
        "        alpha = max(alpha, v)\n",
        "      if v >= beta:\n",
        "        return v, move\n",
        "    return v, move\n",
        "  def min_value(state, alpha, beta):\n",
        "    if game.is_terminal(state):\n",
        "      return game.utility(state, player), None\n",
        "    v, move = +infinity, None\n",
        "    for a in game.actions(state):\n",
        "      v2,_= max_value(game.result(state, a), alpha, beta)\n",
        "      if v2 < v:\n",
        "        v, move = v2, a\n",
        "        beta = min(beta, v)\n",
        "      if v <= alpha:\n",
        "        return v, move\n",
        "      return v, move\n",
        "      return max_value(state, -infinity, +infinity)"
      ],
      "metadata": {
        "id": "tfMje-8IS7UV"
      },
      "execution_count": 6,
      "outputs": []
    },
    {
      "cell_type": "code",
      "source": [
        "class TicTacToe(Game):\n",
        " ##Play TicTacToe on an height by width board, needing k in a row to win.\n",
        " ##'X' plays first against 'O'.\n",
        " def _init_(self, height=3, width=3, k=3):\n",
        "   self.k = k # k in a row\n",
        "   self.squares = {(x, y) for x in range(width) for y in range(height)}\n",
        "   self.initial = Board(height=height, width=width, to_move= X , utility=0)\n",
        " def actions(self, board):\n",
        "  #Legal moves are any square not yet taken.\n",
        "  return self.squares - set(board)\n",
        " def result(self, board, square):\n",
        "  #Place a marker for current player on square.\n",
        "  player = board.to_move\n",
        "  board = board.new( {square: player }, to_move=( 'O' if player == X else X ))\n",
        "  win = k in row(board, player, square, self.k)\n",
        "  board.utility = (0 if not win else +1 if player == 'X' else -1)\n",
        "  return board\n",
        " def utility(self, board, player):\n",
        " ##Return the value to player; 1 for win, −1 for loss, 0 otherwise.\n",
        "  return board.utility if player == 'X' else -board.utility\n",
        " def is_terminal(self, board):\n",
        " #A board is a terminal state if it is won or there are no empty squares.\n",
        "  return board.utility != 0 or len(self.squares) == len(board)\n",
        " def display(self, board):\n",
        "  print(board)\n",
        " def k_in_row(board, player, square, k):\n",
        " ##True if player has k pieces in a line through square.\n",
        "  def in_row(x, y, dx, dy):\n",
        "    return 0 if board[x, y] != player else 1 + in_row(x + dx, y + dy, dx, dy)\n",
        "    return any(in_row(*square, dx, dy) + in_row(*square, -dx, -dy)-1>=k\n",
        "for (dx, dy) in ((0, 1), (1, 0), (1, 1), (1, -1)))"
      ],
      "metadata": {
        "id": "Oth1YApETRqO"
      },
      "execution_count": 7,
      "outputs": []
    }
  ]
}